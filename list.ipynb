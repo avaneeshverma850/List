{
 "cells": [
  {
   "cell_type": "code",
   "execution_count": 1,
   "id": "5c3c5475-2754-429b-b0f4-6f5ff266adcf",
   "metadata": {},
   "outputs": [
    {
     "data": {
      "text/plain": [
       "list"
      ]
     },
     "execution_count": 1,
     "metadata": {},
     "output_type": "execute_result"
    }
   ],
   "source": [
    "l=[]\n",
    "type(l)"
   ]
  },
  {
   "cell_type": "code",
   "execution_count": 2,
   "id": "3009c7b4-4351-43f0-a64c-2d6c2e372a0c",
   "metadata": {},
   "outputs": [
    {
     "data": {
      "text/plain": [
       "[1, 2, 3, 4, 5, 6]"
      ]
     },
     "execution_count": 2,
     "metadata": {},
     "output_type": "execute_result"
    }
   ],
   "source": [
    "l=[1,2,3,4,5,6]\n",
    "l"
   ]
  },
  {
   "cell_type": "code",
   "execution_count": 3,
   "id": "354a6252-0707-419f-9ad3-85588c098797",
   "metadata": {},
   "outputs": [
    {
     "name": "stdout",
     "output_type": "stream",
     "text": [
      "[1, 2, 3, 4, 5, 6, 'avaneesh', True, (4+3j)]\n"
     ]
    }
   ],
   "source": [
    "l2=[1,2,3,4,5,6,\"avaneesh\",True,4+3j] #it can store any type of data \n",
    "print(l2)\n"
   ]
  },
  {
   "cell_type": "code",
   "execution_count": 4,
   "id": "593fd4c7-4cc7-47f6-997a-876bc57a1b13",
   "metadata": {},
   "outputs": [
    {
     "name": "stdout",
     "output_type": "stream",
     "text": [
      "['Avaneesh', 5.46, True]\n"
     ]
    }
   ],
   "source": [
    "l3=[\"Avaneesh\",5.46,True]\n",
    "print(l3)"
   ]
  },
  {
   "cell_type": "code",
   "execution_count": 5,
   "id": "45d9b871-539d-49c7-8409-f465edda2d4a",
   "metadata": {},
   "outputs": [
    {
     "data": {
      "text/plain": [
       "'Avaneesh'"
      ]
     },
     "execution_count": 5,
     "metadata": {},
     "output_type": "execute_result"
    }
   ],
   "source": [
    "l3[0]\n"
   ]
  },
  {
   "cell_type": "code",
   "execution_count": 6,
   "id": "10a5ab25-434a-478b-b66e-31239a6da49d",
   "metadata": {},
   "outputs": [
    {
     "data": {
      "text/plain": [
       "True"
      ]
     },
     "execution_count": 6,
     "metadata": {},
     "output_type": "execute_result"
    }
   ],
   "source": [
    "l3[-1]"
   ]
  },
  {
   "cell_type": "code",
   "execution_count": 7,
   "id": "0a3e1c6d-8b86-4d38-82a2-494298370fcd",
   "metadata": {},
   "outputs": [
    {
     "data": {
      "text/plain": [
       "5.46"
      ]
     },
     "execution_count": 7,
     "metadata": {},
     "output_type": "execute_result"
    }
   ],
   "source": [
    "l3[1]"
   ]
  },
  {
   "cell_type": "code",
   "execution_count": 8,
   "id": "c4bc62de-bca5-4256-a89e-506bda0fa330",
   "metadata": {},
   "outputs": [
    {
     "data": {
      "text/plain": [
       "True"
      ]
     },
     "execution_count": 8,
     "metadata": {},
     "output_type": "execute_result"
    }
   ],
   "source": [
    "l3[2]"
   ]
  },
  {
   "cell_type": "code",
   "execution_count": null,
   "id": "569b5bb4-2a59-44a0-a597-502554f5670e",
   "metadata": {},
   "outputs": [],
   "source": [
    "#l3[100] list index out of range"
   ]
  },
  {
   "cell_type": "code",
   "execution_count": 10,
   "id": "2c0450a5-7e5d-4990-b42c-5dc7984c5eec",
   "metadata": {},
   "outputs": [
    {
     "data": {
      "text/plain": [
       "['Avaneesh', 5.46]"
      ]
     },
     "execution_count": 10,
     "metadata": {},
     "output_type": "execute_result"
    }
   ],
   "source": [
    "l3[:2] #slicing concept "
   ]
  },
  {
   "cell_type": "code",
   "execution_count": 14,
   "id": "87038137-ab40-4c22-b6d6-6f3c0d001832",
   "metadata": {},
   "outputs": [
    {
     "name": "stdout",
     "output_type": "stream",
     "text": [
      "['Avaneesh', 5.46, True]\n",
      "[100, 5.46, True]\n"
     ]
    }
   ],
   "source": [
    "l3=l3[::-1] #reverse of list\n",
    "print(l3)\n",
    "l3[0]=100 #changing list element\n",
    "print(l3)\n"
   ]
  },
  {
   "cell_type": "code",
   "execution_count": 17,
   "id": "0f3d91e0-8a98-47e3-a447-4b73bef02b57",
   "metadata": {},
   "outputs": [
    {
     "name": "stdout",
     "output_type": "stream",
     "text": [
      "[1, 2, 3, 4, 5]\n"
     ]
    }
   ],
   "source": [
    "my_list=[1,2,3]\n",
    "my_list.extend([4,5])\n",
    "print(my_list)"
   ]
  },
  {
   "cell_type": "code",
   "execution_count": 18,
   "id": "df1e32d0-1ab5-4c0b-9c59-d7b43c2acc39",
   "metadata": {},
   "outputs": [
    {
     "name": "stdout",
     "output_type": "stream",
     "text": [
      "[1, 2, 3, [4, 5]]\n"
     ]
    }
   ],
   "source": [
    "my_list=[1,2,3]\n",
    "my_list.append([4,5])\n",
    "print(my_list)"
   ]
  },
  {
   "cell_type": "code",
   "execution_count": 20,
   "id": "ea7f0419-fa05-4501-8ed0-fb8290ff9f8a",
   "metadata": {},
   "outputs": [
    {
     "name": "stdout",
     "output_type": "stream",
     "text": [
      "[2, 3, 4]\n"
     ]
    }
   ],
   "source": [
    "l=[1,2,3,4]\n",
    "l.remove(1)\n",
    "print(l)"
   ]
  },
  {
   "cell_type": "code",
   "execution_count": 8,
   "id": "b25b420c-9c48-49d8-816d-202228250674",
   "metadata": {},
   "outputs": [
    {
     "data": {
      "text/plain": [
       "False"
      ]
     },
     "execution_count": 8,
     "metadata": {},
     "output_type": "execute_result"
    }
   ],
   "source": [
    "l=[3,4,5,34.56,\"avaneesh\"]\n",
    "\"avaneesh\" in l\n",
    "100 in l\n",
    "5 in l\n",
    "45 in l\n",
    "456 in l\n",
    "\n"
   ]
  },
  {
   "cell_type": "code",
   "execution_count": 10,
   "id": "503fd0a2-cc3b-4f4c-85cd-6d02ffe9239a",
   "metadata": {},
   "outputs": [
    {
     "data": {
      "text/plain": [
       "1"
      ]
     },
     "execution_count": 10,
     "metadata": {},
     "output_type": "execute_result"
    }
   ],
   "source": [
    "l=[1,2,3,4,5,6]\n",
    "max(l)\n",
    "min(l)"
   ]
  },
  {
   "cell_type": "code",
   "execution_count": 11,
   "id": "95f83588-26a8-4558-88b5-638b62fed508",
   "metadata": {},
   "outputs": [
    {
     "data": {
      "text/plain": [
       "'avaneesh'"
      ]
     },
     "execution_count": 11,
     "metadata": {},
     "output_type": "execute_result"
    }
   ],
   "source": [
    "l=[\"avaneesh\",\"amar\",\"abc\"]\n",
    "max(l)"
   ]
  },
  {
   "cell_type": "code",
   "execution_count": 13,
   "id": "3170878d-31fa-46df-a6b8-619eaed96518",
   "metadata": {},
   "outputs": [
    {
     "data": {
      "text/plain": [
       "False"
      ]
     },
     "execution_count": 13,
     "metadata": {},
     "output_type": "execute_result"
    }
   ],
   "source": [
    "l=[True,False]\n",
    "max(l)\n",
    "min(l)"
   ]
  },
  {
   "cell_type": "code",
   "execution_count": 20,
   "id": "39dbab84-4afa-4e3b-b033-e82650cb3d02",
   "metadata": {},
   "outputs": [
    {
     "data": {
      "text/plain": [
       "[True,\n",
       " False,\n",
       " 30,\n",
       " 30,\n",
       " 60,\n",
       " 30,\n",
       " 60,\n",
       " 30,\n",
       " 60,\n",
       " 'avaneesh',\n",
       " 30,\n",
       " 60,\n",
       " 'avaneesh',\n",
       " 30,\n",
       " 60,\n",
       " 'avaneesh',\n",
       " 'verma',\n",
       " 30,\n",
       " 60,\n",
       " 'avaneesh',\n",
       " 'verma']"
      ]
     },
     "execution_count": 20,
     "metadata": {},
     "output_type": "execute_result"
    }
   ],
   "source": [
    "l.append(30)\n",
    "l.append(60)\n",
    "l.append(\"avaneesh\")\n",
    "l.append(\"verma\")\n",
    "l"
   ]
  },
  {
   "cell_type": "code",
   "execution_count": 21,
   "id": "4c497876-2aa4-45e4-990d-5e3fe5bb514b",
   "metadata": {},
   "outputs": [
    {
     "data": {
      "text/plain": [
       "[1, 'avaneessh', 2, 3, 4, 5]"
      ]
     },
     "execution_count": 21,
     "metadata": {},
     "output_type": "execute_result"
    }
   ],
   "source": [
    "l=[1,2,3,4,5]\n",
    "l.insert(1,\"avaneessh\")\n",
    "l"
   ]
  },
  {
   "cell_type": "code",
   "execution_count": 24,
   "id": "eb78f4f2-3c3e-4424-99bf-e95e246a5f71",
   "metadata": {},
   "outputs": [
    {
     "data": {
      "text/plain": [
       "[1, 'avaneessh', 'verma', 'kumar', 'verma', 'verma', 2, 3, 4, 5]"
      ]
     },
     "execution_count": 24,
     "metadata": {},
     "output_type": "execute_result"
    }
   ],
   "source": [
    "l.insert(2,\"verma\")\n",
    "l.insert(3,\"kumar\")\n",
    "l"
   ]
  },
  {
   "cell_type": "code",
   "execution_count": 27,
   "id": "42ab969f-19bd-4ed6-b911-303e54c63114",
   "metadata": {},
   "outputs": [
    {
     "data": {
      "text/plain": [
       "[1, 2, 3, 4, 5, 6]"
      ]
     },
     "execution_count": 27,
     "metadata": {},
     "output_type": "execute_result"
    }
   ],
   "source": [
    "l=[1,2,3,4,5,6,7]\n",
    "l.pop()\n",
    "l\n"
   ]
  },
  {
   "cell_type": "code",
   "execution_count": 28,
   "id": "e82a0e8c-6c97-422b-af47-8cc540331f17",
   "metadata": {},
   "outputs": [],
   "source": [
    "l.reverse() #permanently reverse the function"
   ]
  },
  {
   "cell_type": "code",
   "execution_count": 29,
   "id": "d354888f-e7ef-49f0-849e-3e4c9137cf90",
   "metadata": {},
   "outputs": [
    {
     "data": {
      "text/plain": [
       "[6, 5, 4, 3, 2, 1]"
      ]
     },
     "execution_count": 29,
     "metadata": {},
     "output_type": "execute_result"
    }
   ],
   "source": [
    "l"
   ]
  },
  {
   "cell_type": "code",
   "execution_count": 31,
   "id": "e5fd7260-d0b1-4d1e-98fe-acaca91bd4e2",
   "metadata": {},
   "outputs": [
    {
     "data": {
      "text/plain": [
       "[1, 2, 3, 4, 5, 6]"
      ]
     },
     "execution_count": 31,
     "metadata": {},
     "output_type": "execute_result"
    }
   ],
   "source": [
    "l.sort()\n",
    "l"
   ]
  },
  {
   "cell_type": "code",
   "execution_count": 32,
   "id": "c6dc3a4b-d482-4421-85a0-6013399ff486",
   "metadata": {},
   "outputs": [
    {
     "data": {
      "text/plain": [
       "[1, 2, 3, 3, 5, 18, 24, 44, 45, 51, 11324]"
      ]
     },
     "execution_count": 32,
     "metadata": {},
     "output_type": "execute_result"
    }
   ],
   "source": [
    "l2=[2,11324,1,3,44,5,51,18,24,3,45]\n",
    "l2.sort()\n",
    "l2\n"
   ]
  },
  {
   "cell_type": "code",
   "execution_count": 34,
   "id": "677ed2fe-63c8-4e6a-b0a1-f7079ff44d39",
   "metadata": {},
   "outputs": [
    {
     "data": {
      "text/plain": [
       "['verma', 'sudh', 'patel', 'kumar']"
      ]
     },
     "execution_count": 34,
     "metadata": {},
     "output_type": "execute_result"
    }
   ],
   "source": [
    "l3=[\"verma\",\"patel\",\"sudh\",\"kumar\"]\n",
    "l3.sort(reverse=True)\n",
    "l3"
   ]
  },
  {
   "cell_type": "code",
   "execution_count": 35,
   "id": "3b7e804c-f2c6-4078-82d1-067f23ba1948",
   "metadata": {},
   "outputs": [
    {
     "data": {
      "text/plain": [
       "[11324, 51, 45, 44, 24, 18, 5, 3, 3, 2, 1]"
      ]
     },
     "execution_count": 35,
     "metadata": {},
     "output_type": "execute_result"
    }
   ],
   "source": [
    "l2.sort(reverse=True)\n",
    "l2"
   ]
  },
  {
   "cell_type": "code",
   "execution_count": 36,
   "id": "4081fbc6-9365-43b8-aa69-b33bbdfc3e32",
   "metadata": {},
   "outputs": [
    {
     "data": {
      "text/plain": [
       "[[11324, 51, 45, 44, 24, 18, 5, 3, 3, 2, 1],\n",
       " ['verma', 'sudh', 'patel', 'kumar']]"
      ]
     },
     "execution_count": 36,
     "metadata": {},
     "output_type": "execute_result"
    }
   ],
   "source": [
    "l4=[l2,l3]  #list of list\n",
    "l4"
   ]
  },
  {
   "cell_type": "code",
   "execution_count": 37,
   "id": "9b12eafa-0409-4105-8088-754a0189064f",
   "metadata": {},
   "outputs": [
    {
     "data": {
      "text/plain": [
       "2"
      ]
     },
     "execution_count": 37,
     "metadata": {},
     "output_type": "execute_result"
    }
   ],
   "source": [
    "len(l4)"
   ]
  },
  {
   "cell_type": "code",
   "execution_count": 38,
   "id": "a77ff7f6-7ccb-43ad-9afa-c7013c09c6ea",
   "metadata": {},
   "outputs": [
    {
     "data": {
      "text/plain": [
       "[[11324, 51, 45, 44, 24, 18, 5, 3, 3, 2, 1],\n",
       " ['verma', 'sudh', 'patel', 'kumar'],\n",
       " [[11324, 51, 45, 44, 24, 18, 5, 3, 3, 2, 1],\n",
       "  ['verma', 'sudh', 'patel', 'kumar']],\n",
       " 'avaneesh',\n",
       " 23,\n",
       " 45,\n",
       " 122,\n",
       " 'verma']"
      ]
     },
     "execution_count": 38,
     "metadata": {},
     "output_type": "execute_result"
    }
   ],
   "source": [
    "l5=[l2,l3,l4,\"avaneesh\",23,45,122,\"verma\"]\n",
    "l5"
   ]
  },
  {
   "cell_type": "code",
   "execution_count": 44,
   "id": "c117e83d-41f6-49a0-b1f3-9620aae556a1",
   "metadata": {},
   "outputs": [
    {
     "data": {
      "text/plain": [
       "'kumar'"
      ]
     },
     "execution_count": 44,
     "metadata": {},
     "output_type": "execute_result"
    }
   ],
   "source": [
    "l5[1][0]\n",
    "l5[1][1]\n",
    "l5[1][2]\n",
    "l5[1][3]\n"
   ]
  },
  {
   "cell_type": "code",
   "execution_count": null,
   "id": "f809398c-bde1-4f19-ab73-803554e14863",
   "metadata": {},
   "outputs": [],
   "source": []
  }
 ],
 "metadata": {
  "kernelspec": {
   "display_name": "Python 3 (ipykernel)",
   "language": "python",
   "name": "python3"
  },
  "language_info": {
   "codemirror_mode": {
    "name": "ipython",
    "version": 3
   },
   "file_extension": ".py",
   "mimetype": "text/x-python",
   "name": "python",
   "nbconvert_exporter": "python",
   "pygments_lexer": "ipython3",
   "version": "3.10.8"
  }
 },
 "nbformat": 4,
 "nbformat_minor": 5
}
